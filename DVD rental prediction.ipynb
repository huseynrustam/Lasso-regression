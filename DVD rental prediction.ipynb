{
 "cells": [
  {
   "cell_type": "code",
   "execution_count": 1,
   "id": "fcd5e350",
   "metadata": {},
   "outputs": [],
   "source": [
    "# Start your coding from below\n",
    "import pandas as pd\n",
    "import numpy as np\n",
    "import seaborn as sns\n",
    "\n",
    "from sklearn.model_selection import train_test_split\n",
    "from sklearn.metrics import mean_squared_error\n",
    "\n",
    "# For lasso\n",
    "from sklearn.linear_model import Lasso\n",
    "from sklearn.model_selection import train_test_split\n",
    "from sklearn.preprocessing import StandardScaler\n",
    "\n",
    "# Run OLS\n",
    "from sklearn.linear_model import LinearRegression\n",
    "from sklearn.metrics import mean_squared_error\n",
    "\n",
    "# Random forest\n",
    "from sklearn.ensemble import RandomForestRegressor\n",
    "from sklearn.model_selection import RandomizedSearchCV\n",
    "\n",
    "# GridSearchCV\n",
    "from sklearn.model_selection import GridSearchCV"
   ]
  },
  {
   "cell_type": "code",
   "execution_count": 2,
   "id": "5308e8c6",
   "metadata": {},
   "outputs": [],
   "source": [
    "df = pd.read_csv('rental_info.csv')"
   ]
  },
  {
   "cell_type": "code",
   "execution_count": 3,
   "id": "e0df58d6",
   "metadata": {},
   "outputs": [
    {
     "data": {
      "text/html": [
       "<div>\n",
       "<style scoped>\n",
       "    .dataframe tbody tr th:only-of-type {\n",
       "        vertical-align: middle;\n",
       "    }\n",
       "\n",
       "    .dataframe tbody tr th {\n",
       "        vertical-align: top;\n",
       "    }\n",
       "\n",
       "    .dataframe thead th {\n",
       "        text-align: right;\n",
       "    }\n",
       "</style>\n",
       "<table border=\"1\" class=\"dataframe\">\n",
       "  <thead>\n",
       "    <tr style=\"text-align: right;\">\n",
       "      <th></th>\n",
       "      <th>rental_date</th>\n",
       "      <th>return_date</th>\n",
       "      <th>amount</th>\n",
       "      <th>release_year</th>\n",
       "      <th>rental_rate</th>\n",
       "      <th>length</th>\n",
       "      <th>replacement_cost</th>\n",
       "      <th>special_features</th>\n",
       "      <th>NC-17</th>\n",
       "      <th>PG</th>\n",
       "      <th>PG-13</th>\n",
       "      <th>R</th>\n",
       "      <th>amount_2</th>\n",
       "      <th>length_2</th>\n",
       "      <th>rental_rate_2</th>\n",
       "    </tr>\n",
       "  </thead>\n",
       "  <tbody>\n",
       "    <tr>\n",
       "      <th>0</th>\n",
       "      <td>2005-05-25 02:54:33+00:00</td>\n",
       "      <td>2005-05-28 23:40:33+00:00</td>\n",
       "      <td>2.99</td>\n",
       "      <td>2005.0</td>\n",
       "      <td>2.99</td>\n",
       "      <td>126.0</td>\n",
       "      <td>16.99</td>\n",
       "      <td>{Trailers,\"Behind the Scenes\"}</td>\n",
       "      <td>0</td>\n",
       "      <td>0</td>\n",
       "      <td>0</td>\n",
       "      <td>1</td>\n",
       "      <td>8.9401</td>\n",
       "      <td>15876.0</td>\n",
       "      <td>8.9401</td>\n",
       "    </tr>\n",
       "    <tr>\n",
       "      <th>1</th>\n",
       "      <td>2005-06-15 23:19:16+00:00</td>\n",
       "      <td>2005-06-18 19:24:16+00:00</td>\n",
       "      <td>2.99</td>\n",
       "      <td>2005.0</td>\n",
       "      <td>2.99</td>\n",
       "      <td>126.0</td>\n",
       "      <td>16.99</td>\n",
       "      <td>{Trailers,\"Behind the Scenes\"}</td>\n",
       "      <td>0</td>\n",
       "      <td>0</td>\n",
       "      <td>0</td>\n",
       "      <td>1</td>\n",
       "      <td>8.9401</td>\n",
       "      <td>15876.0</td>\n",
       "      <td>8.9401</td>\n",
       "    </tr>\n",
       "    <tr>\n",
       "      <th>2</th>\n",
       "      <td>2005-07-10 04:27:45+00:00</td>\n",
       "      <td>2005-07-17 10:11:45+00:00</td>\n",
       "      <td>2.99</td>\n",
       "      <td>2005.0</td>\n",
       "      <td>2.99</td>\n",
       "      <td>126.0</td>\n",
       "      <td>16.99</td>\n",
       "      <td>{Trailers,\"Behind the Scenes\"}</td>\n",
       "      <td>0</td>\n",
       "      <td>0</td>\n",
       "      <td>0</td>\n",
       "      <td>1</td>\n",
       "      <td>8.9401</td>\n",
       "      <td>15876.0</td>\n",
       "      <td>8.9401</td>\n",
       "    </tr>\n",
       "    <tr>\n",
       "      <th>3</th>\n",
       "      <td>2005-07-31 12:06:41+00:00</td>\n",
       "      <td>2005-08-02 14:30:41+00:00</td>\n",
       "      <td>2.99</td>\n",
       "      <td>2005.0</td>\n",
       "      <td>2.99</td>\n",
       "      <td>126.0</td>\n",
       "      <td>16.99</td>\n",
       "      <td>{Trailers,\"Behind the Scenes\"}</td>\n",
       "      <td>0</td>\n",
       "      <td>0</td>\n",
       "      <td>0</td>\n",
       "      <td>1</td>\n",
       "      <td>8.9401</td>\n",
       "      <td>15876.0</td>\n",
       "      <td>8.9401</td>\n",
       "    </tr>\n",
       "    <tr>\n",
       "      <th>4</th>\n",
       "      <td>2005-08-19 12:30:04+00:00</td>\n",
       "      <td>2005-08-23 13:35:04+00:00</td>\n",
       "      <td>2.99</td>\n",
       "      <td>2005.0</td>\n",
       "      <td>2.99</td>\n",
       "      <td>126.0</td>\n",
       "      <td>16.99</td>\n",
       "      <td>{Trailers,\"Behind the Scenes\"}</td>\n",
       "      <td>0</td>\n",
       "      <td>0</td>\n",
       "      <td>0</td>\n",
       "      <td>1</td>\n",
       "      <td>8.9401</td>\n",
       "      <td>15876.0</td>\n",
       "      <td>8.9401</td>\n",
       "    </tr>\n",
       "  </tbody>\n",
       "</table>\n",
       "</div>"
      ],
      "text/plain": [
       "                 rental_date                return_date  amount  release_year  \\\n",
       "0  2005-05-25 02:54:33+00:00  2005-05-28 23:40:33+00:00    2.99        2005.0   \n",
       "1  2005-06-15 23:19:16+00:00  2005-06-18 19:24:16+00:00    2.99        2005.0   \n",
       "2  2005-07-10 04:27:45+00:00  2005-07-17 10:11:45+00:00    2.99        2005.0   \n",
       "3  2005-07-31 12:06:41+00:00  2005-08-02 14:30:41+00:00    2.99        2005.0   \n",
       "4  2005-08-19 12:30:04+00:00  2005-08-23 13:35:04+00:00    2.99        2005.0   \n",
       "\n",
       "   rental_rate  length  replacement_cost                special_features  \\\n",
       "0         2.99   126.0             16.99  {Trailers,\"Behind the Scenes\"}   \n",
       "1         2.99   126.0             16.99  {Trailers,\"Behind the Scenes\"}   \n",
       "2         2.99   126.0             16.99  {Trailers,\"Behind the Scenes\"}   \n",
       "3         2.99   126.0             16.99  {Trailers,\"Behind the Scenes\"}   \n",
       "4         2.99   126.0             16.99  {Trailers,\"Behind the Scenes\"}   \n",
       "\n",
       "   NC-17  PG  PG-13  R  amount_2  length_2  rental_rate_2  \n",
       "0      0   0      0  1    8.9401   15876.0         8.9401  \n",
       "1      0   0      0  1    8.9401   15876.0         8.9401  \n",
       "2      0   0      0  1    8.9401   15876.0         8.9401  \n",
       "3      0   0      0  1    8.9401   15876.0         8.9401  \n",
       "4      0   0      0  1    8.9401   15876.0         8.9401  "
      ]
     },
     "execution_count": 3,
     "metadata": {},
     "output_type": "execute_result"
    }
   ],
   "source": [
    "df.head()"
   ]
  },
  {
   "cell_type": "code",
   "execution_count": 4,
   "id": "459d8169",
   "metadata": {},
   "outputs": [
    {
     "data": {
      "text/plain": [
       "rental_date          object\n",
       "return_date          object\n",
       "amount              float64\n",
       "release_year        float64\n",
       "rental_rate         float64\n",
       "length              float64\n",
       "replacement_cost    float64\n",
       "special_features     object\n",
       "NC-17                 int64\n",
       "PG                    int64\n",
       "PG-13                 int64\n",
       "R                     int64\n",
       "amount_2            float64\n",
       "length_2            float64\n",
       "rental_rate_2       float64\n",
       "dtype: object"
      ]
     },
     "execution_count": 4,
     "metadata": {},
     "output_type": "execute_result"
    }
   ],
   "source": [
    "df.dtypes"
   ]
  },
  {
   "cell_type": "code",
   "execution_count": 5,
   "id": "e0200c30",
   "metadata": {},
   "outputs": [],
   "source": [
    "df['rental_length']=pd.to_datetime(df['return_date'])-pd.to_datetime(df['rental_date'])"
   ]
  },
  {
   "cell_type": "code",
   "execution_count": 6,
   "id": "e03353aa",
   "metadata": {},
   "outputs": [],
   "source": [
    "df['rental_length_days']=df['rental_length'].dt.days"
   ]
  },
  {
   "cell_type": "code",
   "execution_count": 7,
   "id": "da23c835",
   "metadata": {},
   "outputs": [
    {
     "data": {
      "text/html": [
       "<div>\n",
       "<style scoped>\n",
       "    .dataframe tbody tr th:only-of-type {\n",
       "        vertical-align: middle;\n",
       "    }\n",
       "\n",
       "    .dataframe tbody tr th {\n",
       "        vertical-align: top;\n",
       "    }\n",
       "\n",
       "    .dataframe thead th {\n",
       "        text-align: right;\n",
       "    }\n",
       "</style>\n",
       "<table border=\"1\" class=\"dataframe\">\n",
       "  <thead>\n",
       "    <tr style=\"text-align: right;\">\n",
       "      <th></th>\n",
       "      <th>amount</th>\n",
       "      <th>release_year</th>\n",
       "      <th>rental_rate</th>\n",
       "      <th>length</th>\n",
       "      <th>replacement_cost</th>\n",
       "      <th>special_features</th>\n",
       "      <th>NC-17</th>\n",
       "      <th>PG</th>\n",
       "      <th>PG-13</th>\n",
       "      <th>R</th>\n",
       "      <th>amount_2</th>\n",
       "      <th>length_2</th>\n",
       "      <th>rental_rate_2</th>\n",
       "      <th>rental_length_days</th>\n",
       "    </tr>\n",
       "  </thead>\n",
       "  <tbody>\n",
       "    <tr>\n",
       "      <th>0</th>\n",
       "      <td>2.99</td>\n",
       "      <td>2005.0</td>\n",
       "      <td>2.99</td>\n",
       "      <td>126.0</td>\n",
       "      <td>16.99</td>\n",
       "      <td>{Trailers,\"Behind the Scenes\"}</td>\n",
       "      <td>0</td>\n",
       "      <td>0</td>\n",
       "      <td>0</td>\n",
       "      <td>1</td>\n",
       "      <td>8.9401</td>\n",
       "      <td>15876.0</td>\n",
       "      <td>8.9401</td>\n",
       "      <td>3</td>\n",
       "    </tr>\n",
       "    <tr>\n",
       "      <th>1</th>\n",
       "      <td>2.99</td>\n",
       "      <td>2005.0</td>\n",
       "      <td>2.99</td>\n",
       "      <td>126.0</td>\n",
       "      <td>16.99</td>\n",
       "      <td>{Trailers,\"Behind the Scenes\"}</td>\n",
       "      <td>0</td>\n",
       "      <td>0</td>\n",
       "      <td>0</td>\n",
       "      <td>1</td>\n",
       "      <td>8.9401</td>\n",
       "      <td>15876.0</td>\n",
       "      <td>8.9401</td>\n",
       "      <td>2</td>\n",
       "    </tr>\n",
       "    <tr>\n",
       "      <th>2</th>\n",
       "      <td>2.99</td>\n",
       "      <td>2005.0</td>\n",
       "      <td>2.99</td>\n",
       "      <td>126.0</td>\n",
       "      <td>16.99</td>\n",
       "      <td>{Trailers,\"Behind the Scenes\"}</td>\n",
       "      <td>0</td>\n",
       "      <td>0</td>\n",
       "      <td>0</td>\n",
       "      <td>1</td>\n",
       "      <td>8.9401</td>\n",
       "      <td>15876.0</td>\n",
       "      <td>8.9401</td>\n",
       "      <td>7</td>\n",
       "    </tr>\n",
       "    <tr>\n",
       "      <th>3</th>\n",
       "      <td>2.99</td>\n",
       "      <td>2005.0</td>\n",
       "      <td>2.99</td>\n",
       "      <td>126.0</td>\n",
       "      <td>16.99</td>\n",
       "      <td>{Trailers,\"Behind the Scenes\"}</td>\n",
       "      <td>0</td>\n",
       "      <td>0</td>\n",
       "      <td>0</td>\n",
       "      <td>1</td>\n",
       "      <td>8.9401</td>\n",
       "      <td>15876.0</td>\n",
       "      <td>8.9401</td>\n",
       "      <td>2</td>\n",
       "    </tr>\n",
       "    <tr>\n",
       "      <th>4</th>\n",
       "      <td>2.99</td>\n",
       "      <td>2005.0</td>\n",
       "      <td>2.99</td>\n",
       "      <td>126.0</td>\n",
       "      <td>16.99</td>\n",
       "      <td>{Trailers,\"Behind the Scenes\"}</td>\n",
       "      <td>0</td>\n",
       "      <td>0</td>\n",
       "      <td>0</td>\n",
       "      <td>1</td>\n",
       "      <td>8.9401</td>\n",
       "      <td>15876.0</td>\n",
       "      <td>8.9401</td>\n",
       "      <td>4</td>\n",
       "    </tr>\n",
       "    <tr>\n",
       "      <th>...</th>\n",
       "      <td>...</td>\n",
       "      <td>...</td>\n",
       "      <td>...</td>\n",
       "      <td>...</td>\n",
       "      <td>...</td>\n",
       "      <td>...</td>\n",
       "      <td>...</td>\n",
       "      <td>...</td>\n",
       "      <td>...</td>\n",
       "      <td>...</td>\n",
       "      <td>...</td>\n",
       "      <td>...</td>\n",
       "      <td>...</td>\n",
       "      <td>...</td>\n",
       "    </tr>\n",
       "    <tr>\n",
       "      <th>15856</th>\n",
       "      <td>6.99</td>\n",
       "      <td>2009.0</td>\n",
       "      <td>4.99</td>\n",
       "      <td>88.0</td>\n",
       "      <td>11.99</td>\n",
       "      <td>{Trailers,\"Deleted Scenes\",\"Behind the Scenes\"}</td>\n",
       "      <td>0</td>\n",
       "      <td>0</td>\n",
       "      <td>0</td>\n",
       "      <td>1</td>\n",
       "      <td>48.8601</td>\n",
       "      <td>7744.0</td>\n",
       "      <td>24.9001</td>\n",
       "      <td>6</td>\n",
       "    </tr>\n",
       "    <tr>\n",
       "      <th>15857</th>\n",
       "      <td>4.99</td>\n",
       "      <td>2009.0</td>\n",
       "      <td>4.99</td>\n",
       "      <td>88.0</td>\n",
       "      <td>11.99</td>\n",
       "      <td>{Trailers,\"Deleted Scenes\",\"Behind the Scenes\"}</td>\n",
       "      <td>0</td>\n",
       "      <td>0</td>\n",
       "      <td>0</td>\n",
       "      <td>1</td>\n",
       "      <td>24.9001</td>\n",
       "      <td>7744.0</td>\n",
       "      <td>24.9001</td>\n",
       "      <td>4</td>\n",
       "    </tr>\n",
       "    <tr>\n",
       "      <th>15858</th>\n",
       "      <td>8.99</td>\n",
       "      <td>2009.0</td>\n",
       "      <td>4.99</td>\n",
       "      <td>88.0</td>\n",
       "      <td>11.99</td>\n",
       "      <td>{Trailers,\"Deleted Scenes\",\"Behind the Scenes\"}</td>\n",
       "      <td>0</td>\n",
       "      <td>0</td>\n",
       "      <td>0</td>\n",
       "      <td>1</td>\n",
       "      <td>80.8201</td>\n",
       "      <td>7744.0</td>\n",
       "      <td>24.9001</td>\n",
       "      <td>9</td>\n",
       "    </tr>\n",
       "    <tr>\n",
       "      <th>15859</th>\n",
       "      <td>7.99</td>\n",
       "      <td>2009.0</td>\n",
       "      <td>4.99</td>\n",
       "      <td>88.0</td>\n",
       "      <td>11.99</td>\n",
       "      <td>{Trailers,\"Deleted Scenes\",\"Behind the Scenes\"}</td>\n",
       "      <td>0</td>\n",
       "      <td>0</td>\n",
       "      <td>0</td>\n",
       "      <td>1</td>\n",
       "      <td>63.8401</td>\n",
       "      <td>7744.0</td>\n",
       "      <td>24.9001</td>\n",
       "      <td>8</td>\n",
       "    </tr>\n",
       "    <tr>\n",
       "      <th>15860</th>\n",
       "      <td>5.99</td>\n",
       "      <td>2009.0</td>\n",
       "      <td>4.99</td>\n",
       "      <td>88.0</td>\n",
       "      <td>11.99</td>\n",
       "      <td>{Trailers,\"Deleted Scenes\",\"Behind the Scenes\"}</td>\n",
       "      <td>0</td>\n",
       "      <td>0</td>\n",
       "      <td>0</td>\n",
       "      <td>1</td>\n",
       "      <td>35.8801</td>\n",
       "      <td>7744.0</td>\n",
       "      <td>24.9001</td>\n",
       "      <td>6</td>\n",
       "    </tr>\n",
       "  </tbody>\n",
       "</table>\n",
       "<p>15861 rows × 14 columns</p>\n",
       "</div>"
      ],
      "text/plain": [
       "       amount  release_year  rental_rate  length  replacement_cost  \\\n",
       "0        2.99        2005.0         2.99   126.0             16.99   \n",
       "1        2.99        2005.0         2.99   126.0             16.99   \n",
       "2        2.99        2005.0         2.99   126.0             16.99   \n",
       "3        2.99        2005.0         2.99   126.0             16.99   \n",
       "4        2.99        2005.0         2.99   126.0             16.99   \n",
       "...       ...           ...          ...     ...               ...   \n",
       "15856    6.99        2009.0         4.99    88.0             11.99   \n",
       "15857    4.99        2009.0         4.99    88.0             11.99   \n",
       "15858    8.99        2009.0         4.99    88.0             11.99   \n",
       "15859    7.99        2009.0         4.99    88.0             11.99   \n",
       "15860    5.99        2009.0         4.99    88.0             11.99   \n",
       "\n",
       "                                      special_features  NC-17  PG  PG-13  R  \\\n",
       "0                       {Trailers,\"Behind the Scenes\"}      0   0      0  1   \n",
       "1                       {Trailers,\"Behind the Scenes\"}      0   0      0  1   \n",
       "2                       {Trailers,\"Behind the Scenes\"}      0   0      0  1   \n",
       "3                       {Trailers,\"Behind the Scenes\"}      0   0      0  1   \n",
       "4                       {Trailers,\"Behind the Scenes\"}      0   0      0  1   \n",
       "...                                                ...    ...  ..    ... ..   \n",
       "15856  {Trailers,\"Deleted Scenes\",\"Behind the Scenes\"}      0   0      0  1   \n",
       "15857  {Trailers,\"Deleted Scenes\",\"Behind the Scenes\"}      0   0      0  1   \n",
       "15858  {Trailers,\"Deleted Scenes\",\"Behind the Scenes\"}      0   0      0  1   \n",
       "15859  {Trailers,\"Deleted Scenes\",\"Behind the Scenes\"}      0   0      0  1   \n",
       "15860  {Trailers,\"Deleted Scenes\",\"Behind the Scenes\"}      0   0      0  1   \n",
       "\n",
       "       amount_2  length_2  rental_rate_2  rental_length_days  \n",
       "0        8.9401   15876.0         8.9401                   3  \n",
       "1        8.9401   15876.0         8.9401                   2  \n",
       "2        8.9401   15876.0         8.9401                   7  \n",
       "3        8.9401   15876.0         8.9401                   2  \n",
       "4        8.9401   15876.0         8.9401                   4  \n",
       "...         ...       ...            ...                 ...  \n",
       "15856   48.8601    7744.0        24.9001                   6  \n",
       "15857   24.9001    7744.0        24.9001                   4  \n",
       "15858   80.8201    7744.0        24.9001                   9  \n",
       "15859   63.8401    7744.0        24.9001                   8  \n",
       "15860   35.8801    7744.0        24.9001                   6  \n",
       "\n",
       "[15861 rows x 14 columns]"
      ]
     },
     "execution_count": 7,
     "metadata": {},
     "output_type": "execute_result"
    }
   ],
   "source": [
    "df.drop(['rental_date','return_date','rental_length'],axis=1)"
   ]
  },
  {
   "cell_type": "code",
   "execution_count": 8,
   "id": "33888398",
   "metadata": {},
   "outputs": [
    {
     "data": {
      "text/plain": [
       "array(['{Trailers,\"Behind the Scenes\"}', '{Trailers}',\n",
       "       '{Commentaries,\"Behind the Scenes\"}', '{Trailers,Commentaries}',\n",
       "       '{\"Deleted Scenes\",\"Behind the Scenes\"}',\n",
       "       '{Commentaries,\"Deleted Scenes\",\"Behind the Scenes\"}',\n",
       "       '{Trailers,Commentaries,\"Deleted Scenes\"}',\n",
       "       '{\"Behind the Scenes\"}',\n",
       "       '{Trailers,\"Deleted Scenes\",\"Behind the Scenes\"}',\n",
       "       '{Commentaries,\"Deleted Scenes\"}', '{Commentaries}',\n",
       "       '{Trailers,Commentaries,\"Behind the Scenes\"}',\n",
       "       '{Trailers,\"Deleted Scenes\"}', '{\"Deleted Scenes\"}',\n",
       "       '{Trailers,Commentaries,\"Deleted Scenes\",\"Behind the Scenes\"}'],\n",
       "      dtype=object)"
      ]
     },
     "execution_count": 8,
     "metadata": {},
     "output_type": "execute_result"
    }
   ],
   "source": [
    "df['special_features'].unique()"
   ]
  },
  {
   "cell_type": "code",
   "execution_count": 9,
   "id": "8d0e2a05",
   "metadata": {},
   "outputs": [],
   "source": [
    "df['behind_the_scenes'] = np.where(df['special_features'].str.contains('Behind the Scenes'),1,0)"
   ]
  },
  {
   "cell_type": "code",
   "execution_count": 10,
   "id": "78e36370",
   "metadata": {},
   "outputs": [],
   "source": [
    "df['deleted_scenes'] = np.where(df['special_features'].str.contains('Deleted Scenes'),1,0)"
   ]
  },
  {
   "cell_type": "code",
   "execution_count": 11,
   "id": "09b69aac",
   "metadata": {},
   "outputs": [
    {
     "data": {
      "text/html": [
       "<div>\n",
       "<style scoped>\n",
       "    .dataframe tbody tr th:only-of-type {\n",
       "        vertical-align: middle;\n",
       "    }\n",
       "\n",
       "    .dataframe tbody tr th {\n",
       "        vertical-align: top;\n",
       "    }\n",
       "\n",
       "    .dataframe thead th {\n",
       "        text-align: right;\n",
       "    }\n",
       "</style>\n",
       "<table border=\"1\" class=\"dataframe\">\n",
       "  <thead>\n",
       "    <tr style=\"text-align: right;\">\n",
       "      <th></th>\n",
       "      <th>rental_date</th>\n",
       "      <th>return_date</th>\n",
       "      <th>amount</th>\n",
       "      <th>release_year</th>\n",
       "      <th>rental_rate</th>\n",
       "      <th>length</th>\n",
       "      <th>replacement_cost</th>\n",
       "      <th>NC-17</th>\n",
       "      <th>PG</th>\n",
       "      <th>PG-13</th>\n",
       "      <th>R</th>\n",
       "      <th>amount_2</th>\n",
       "      <th>length_2</th>\n",
       "      <th>rental_rate_2</th>\n",
       "      <th>rental_length</th>\n",
       "      <th>rental_length_days</th>\n",
       "      <th>behind_the_scenes</th>\n",
       "      <th>deleted_scenes</th>\n",
       "    </tr>\n",
       "  </thead>\n",
       "  <tbody>\n",
       "    <tr>\n",
       "      <th>0</th>\n",
       "      <td>2005-05-25 02:54:33+00:00</td>\n",
       "      <td>2005-05-28 23:40:33+00:00</td>\n",
       "      <td>2.99</td>\n",
       "      <td>2005.0</td>\n",
       "      <td>2.99</td>\n",
       "      <td>126.0</td>\n",
       "      <td>16.99</td>\n",
       "      <td>0</td>\n",
       "      <td>0</td>\n",
       "      <td>0</td>\n",
       "      <td>1</td>\n",
       "      <td>8.9401</td>\n",
       "      <td>15876.0</td>\n",
       "      <td>8.9401</td>\n",
       "      <td>3 days 20:46:00</td>\n",
       "      <td>3</td>\n",
       "      <td>1</td>\n",
       "      <td>0</td>\n",
       "    </tr>\n",
       "    <tr>\n",
       "      <th>1</th>\n",
       "      <td>2005-06-15 23:19:16+00:00</td>\n",
       "      <td>2005-06-18 19:24:16+00:00</td>\n",
       "      <td>2.99</td>\n",
       "      <td>2005.0</td>\n",
       "      <td>2.99</td>\n",
       "      <td>126.0</td>\n",
       "      <td>16.99</td>\n",
       "      <td>0</td>\n",
       "      <td>0</td>\n",
       "      <td>0</td>\n",
       "      <td>1</td>\n",
       "      <td>8.9401</td>\n",
       "      <td>15876.0</td>\n",
       "      <td>8.9401</td>\n",
       "      <td>2 days 20:05:00</td>\n",
       "      <td>2</td>\n",
       "      <td>1</td>\n",
       "      <td>0</td>\n",
       "    </tr>\n",
       "    <tr>\n",
       "      <th>2</th>\n",
       "      <td>2005-07-10 04:27:45+00:00</td>\n",
       "      <td>2005-07-17 10:11:45+00:00</td>\n",
       "      <td>2.99</td>\n",
       "      <td>2005.0</td>\n",
       "      <td>2.99</td>\n",
       "      <td>126.0</td>\n",
       "      <td>16.99</td>\n",
       "      <td>0</td>\n",
       "      <td>0</td>\n",
       "      <td>0</td>\n",
       "      <td>1</td>\n",
       "      <td>8.9401</td>\n",
       "      <td>15876.0</td>\n",
       "      <td>8.9401</td>\n",
       "      <td>7 days 05:44:00</td>\n",
       "      <td>7</td>\n",
       "      <td>1</td>\n",
       "      <td>0</td>\n",
       "    </tr>\n",
       "    <tr>\n",
       "      <th>3</th>\n",
       "      <td>2005-07-31 12:06:41+00:00</td>\n",
       "      <td>2005-08-02 14:30:41+00:00</td>\n",
       "      <td>2.99</td>\n",
       "      <td>2005.0</td>\n",
       "      <td>2.99</td>\n",
       "      <td>126.0</td>\n",
       "      <td>16.99</td>\n",
       "      <td>0</td>\n",
       "      <td>0</td>\n",
       "      <td>0</td>\n",
       "      <td>1</td>\n",
       "      <td>8.9401</td>\n",
       "      <td>15876.0</td>\n",
       "      <td>8.9401</td>\n",
       "      <td>2 days 02:24:00</td>\n",
       "      <td>2</td>\n",
       "      <td>1</td>\n",
       "      <td>0</td>\n",
       "    </tr>\n",
       "    <tr>\n",
       "      <th>4</th>\n",
       "      <td>2005-08-19 12:30:04+00:00</td>\n",
       "      <td>2005-08-23 13:35:04+00:00</td>\n",
       "      <td>2.99</td>\n",
       "      <td>2005.0</td>\n",
       "      <td>2.99</td>\n",
       "      <td>126.0</td>\n",
       "      <td>16.99</td>\n",
       "      <td>0</td>\n",
       "      <td>0</td>\n",
       "      <td>0</td>\n",
       "      <td>1</td>\n",
       "      <td>8.9401</td>\n",
       "      <td>15876.0</td>\n",
       "      <td>8.9401</td>\n",
       "      <td>4 days 01:05:00</td>\n",
       "      <td>4</td>\n",
       "      <td>1</td>\n",
       "      <td>0</td>\n",
       "    </tr>\n",
       "    <tr>\n",
       "      <th>...</th>\n",
       "      <td>...</td>\n",
       "      <td>...</td>\n",
       "      <td>...</td>\n",
       "      <td>...</td>\n",
       "      <td>...</td>\n",
       "      <td>...</td>\n",
       "      <td>...</td>\n",
       "      <td>...</td>\n",
       "      <td>...</td>\n",
       "      <td>...</td>\n",
       "      <td>...</td>\n",
       "      <td>...</td>\n",
       "      <td>...</td>\n",
       "      <td>...</td>\n",
       "      <td>...</td>\n",
       "      <td>...</td>\n",
       "      <td>...</td>\n",
       "      <td>...</td>\n",
       "    </tr>\n",
       "    <tr>\n",
       "      <th>15856</th>\n",
       "      <td>2005-08-22 10:49:15+00:00</td>\n",
       "      <td>2005-08-29 09:52:15+00:00</td>\n",
       "      <td>6.99</td>\n",
       "      <td>2009.0</td>\n",
       "      <td>4.99</td>\n",
       "      <td>88.0</td>\n",
       "      <td>11.99</td>\n",
       "      <td>0</td>\n",
       "      <td>0</td>\n",
       "      <td>0</td>\n",
       "      <td>1</td>\n",
       "      <td>48.8601</td>\n",
       "      <td>7744.0</td>\n",
       "      <td>24.9001</td>\n",
       "      <td>6 days 23:03:00</td>\n",
       "      <td>6</td>\n",
       "      <td>1</td>\n",
       "      <td>1</td>\n",
       "    </tr>\n",
       "    <tr>\n",
       "      <th>15857</th>\n",
       "      <td>2005-07-31 09:48:49+00:00</td>\n",
       "      <td>2005-08-04 10:53:49+00:00</td>\n",
       "      <td>4.99</td>\n",
       "      <td>2009.0</td>\n",
       "      <td>4.99</td>\n",
       "      <td>88.0</td>\n",
       "      <td>11.99</td>\n",
       "      <td>0</td>\n",
       "      <td>0</td>\n",
       "      <td>0</td>\n",
       "      <td>1</td>\n",
       "      <td>24.9001</td>\n",
       "      <td>7744.0</td>\n",
       "      <td>24.9001</td>\n",
       "      <td>4 days 01:05:00</td>\n",
       "      <td>4</td>\n",
       "      <td>1</td>\n",
       "      <td>1</td>\n",
       "    </tr>\n",
       "    <tr>\n",
       "      <th>15858</th>\n",
       "      <td>2005-08-20 10:35:30+00:00</td>\n",
       "      <td>2005-08-29 13:03:30+00:00</td>\n",
       "      <td>8.99</td>\n",
       "      <td>2009.0</td>\n",
       "      <td>4.99</td>\n",
       "      <td>88.0</td>\n",
       "      <td>11.99</td>\n",
       "      <td>0</td>\n",
       "      <td>0</td>\n",
       "      <td>0</td>\n",
       "      <td>1</td>\n",
       "      <td>80.8201</td>\n",
       "      <td>7744.0</td>\n",
       "      <td>24.9001</td>\n",
       "      <td>9 days 02:28:00</td>\n",
       "      <td>9</td>\n",
       "      <td>1</td>\n",
       "      <td>1</td>\n",
       "    </tr>\n",
       "    <tr>\n",
       "      <th>15859</th>\n",
       "      <td>2005-07-31 13:10:20+00:00</td>\n",
       "      <td>2005-08-08 14:07:20+00:00</td>\n",
       "      <td>7.99</td>\n",
       "      <td>2009.0</td>\n",
       "      <td>4.99</td>\n",
       "      <td>88.0</td>\n",
       "      <td>11.99</td>\n",
       "      <td>0</td>\n",
       "      <td>0</td>\n",
       "      <td>0</td>\n",
       "      <td>1</td>\n",
       "      <td>63.8401</td>\n",
       "      <td>7744.0</td>\n",
       "      <td>24.9001</td>\n",
       "      <td>8 days 00:57:00</td>\n",
       "      <td>8</td>\n",
       "      <td>1</td>\n",
       "      <td>1</td>\n",
       "    </tr>\n",
       "    <tr>\n",
       "      <th>15860</th>\n",
       "      <td>2005-08-18 06:33:55+00:00</td>\n",
       "      <td>2005-08-24 07:14:55+00:00</td>\n",
       "      <td>5.99</td>\n",
       "      <td>2009.0</td>\n",
       "      <td>4.99</td>\n",
       "      <td>88.0</td>\n",
       "      <td>11.99</td>\n",
       "      <td>0</td>\n",
       "      <td>0</td>\n",
       "      <td>0</td>\n",
       "      <td>1</td>\n",
       "      <td>35.8801</td>\n",
       "      <td>7744.0</td>\n",
       "      <td>24.9001</td>\n",
       "      <td>6 days 00:41:00</td>\n",
       "      <td>6</td>\n",
       "      <td>1</td>\n",
       "      <td>1</td>\n",
       "    </tr>\n",
       "  </tbody>\n",
       "</table>\n",
       "<p>15861 rows × 18 columns</p>\n",
       "</div>"
      ],
      "text/plain": [
       "                     rental_date                return_date  amount  \\\n",
       "0      2005-05-25 02:54:33+00:00  2005-05-28 23:40:33+00:00    2.99   \n",
       "1      2005-06-15 23:19:16+00:00  2005-06-18 19:24:16+00:00    2.99   \n",
       "2      2005-07-10 04:27:45+00:00  2005-07-17 10:11:45+00:00    2.99   \n",
       "3      2005-07-31 12:06:41+00:00  2005-08-02 14:30:41+00:00    2.99   \n",
       "4      2005-08-19 12:30:04+00:00  2005-08-23 13:35:04+00:00    2.99   \n",
       "...                          ...                        ...     ...   \n",
       "15856  2005-08-22 10:49:15+00:00  2005-08-29 09:52:15+00:00    6.99   \n",
       "15857  2005-07-31 09:48:49+00:00  2005-08-04 10:53:49+00:00    4.99   \n",
       "15858  2005-08-20 10:35:30+00:00  2005-08-29 13:03:30+00:00    8.99   \n",
       "15859  2005-07-31 13:10:20+00:00  2005-08-08 14:07:20+00:00    7.99   \n",
       "15860  2005-08-18 06:33:55+00:00  2005-08-24 07:14:55+00:00    5.99   \n",
       "\n",
       "       release_year  rental_rate  length  replacement_cost  NC-17  PG  PG-13  \\\n",
       "0            2005.0         2.99   126.0             16.99      0   0      0   \n",
       "1            2005.0         2.99   126.0             16.99      0   0      0   \n",
       "2            2005.0         2.99   126.0             16.99      0   0      0   \n",
       "3            2005.0         2.99   126.0             16.99      0   0      0   \n",
       "4            2005.0         2.99   126.0             16.99      0   0      0   \n",
       "...             ...          ...     ...               ...    ...  ..    ...   \n",
       "15856        2009.0         4.99    88.0             11.99      0   0      0   \n",
       "15857        2009.0         4.99    88.0             11.99      0   0      0   \n",
       "15858        2009.0         4.99    88.0             11.99      0   0      0   \n",
       "15859        2009.0         4.99    88.0             11.99      0   0      0   \n",
       "15860        2009.0         4.99    88.0             11.99      0   0      0   \n",
       "\n",
       "       R  amount_2  length_2  rental_rate_2   rental_length  \\\n",
       "0      1    8.9401   15876.0         8.9401 3 days 20:46:00   \n",
       "1      1    8.9401   15876.0         8.9401 2 days 20:05:00   \n",
       "2      1    8.9401   15876.0         8.9401 7 days 05:44:00   \n",
       "3      1    8.9401   15876.0         8.9401 2 days 02:24:00   \n",
       "4      1    8.9401   15876.0         8.9401 4 days 01:05:00   \n",
       "...   ..       ...       ...            ...             ...   \n",
       "15856  1   48.8601    7744.0        24.9001 6 days 23:03:00   \n",
       "15857  1   24.9001    7744.0        24.9001 4 days 01:05:00   \n",
       "15858  1   80.8201    7744.0        24.9001 9 days 02:28:00   \n",
       "15859  1   63.8401    7744.0        24.9001 8 days 00:57:00   \n",
       "15860  1   35.8801    7744.0        24.9001 6 days 00:41:00   \n",
       "\n",
       "       rental_length_days  behind_the_scenes  deleted_scenes  \n",
       "0                       3                  1               0  \n",
       "1                       2                  1               0  \n",
       "2                       7                  1               0  \n",
       "3                       2                  1               0  \n",
       "4                       4                  1               0  \n",
       "...                   ...                ...             ...  \n",
       "15856                   6                  1               1  \n",
       "15857                   4                  1               1  \n",
       "15858                   9                  1               1  \n",
       "15859                   8                  1               1  \n",
       "15860                   6                  1               1  \n",
       "\n",
       "[15861 rows x 18 columns]"
      ]
     },
     "execution_count": 11,
     "metadata": {},
     "output_type": "execute_result"
    }
   ],
   "source": [
    "df.drop('special_features',axis=1)"
   ]
  },
  {
   "cell_type": "code",
   "execution_count": 12,
   "id": "885814bb",
   "metadata": {},
   "outputs": [],
   "source": [
    "df = df.drop(['rental_date','return_date','rental_length','special_features'],axis=1)"
   ]
  },
  {
   "cell_type": "code",
   "execution_count": 13,
   "id": "7ca31f5e",
   "metadata": {},
   "outputs": [
    {
     "data": {
      "text/plain": [
       "(15861, 15)"
      ]
     },
     "execution_count": 13,
     "metadata": {},
     "output_type": "execute_result"
    }
   ],
   "source": [
    "df.shape"
   ]
  },
  {
   "cell_type": "code",
   "execution_count": 14,
   "id": "706dd7d6",
   "metadata": {},
   "outputs": [
    {
     "data": {
      "text/html": [
       "<div>\n",
       "<style scoped>\n",
       "    .dataframe tbody tr th:only-of-type {\n",
       "        vertical-align: middle;\n",
       "    }\n",
       "\n",
       "    .dataframe tbody tr th {\n",
       "        vertical-align: top;\n",
       "    }\n",
       "\n",
       "    .dataframe thead th {\n",
       "        text-align: right;\n",
       "    }\n",
       "</style>\n",
       "<table border=\"1\" class=\"dataframe\">\n",
       "  <thead>\n",
       "    <tr style=\"text-align: right;\">\n",
       "      <th></th>\n",
       "      <th>amount</th>\n",
       "      <th>release_year</th>\n",
       "      <th>rental_rate</th>\n",
       "      <th>length</th>\n",
       "      <th>replacement_cost</th>\n",
       "      <th>NC-17</th>\n",
       "      <th>PG</th>\n",
       "      <th>PG-13</th>\n",
       "      <th>R</th>\n",
       "      <th>amount_2</th>\n",
       "      <th>length_2</th>\n",
       "      <th>rental_rate_2</th>\n",
       "      <th>rental_length_days</th>\n",
       "      <th>behind_the_scenes</th>\n",
       "      <th>deleted_scenes</th>\n",
       "    </tr>\n",
       "  </thead>\n",
       "  <tbody>\n",
       "    <tr>\n",
       "      <th>0</th>\n",
       "      <td>2.99</td>\n",
       "      <td>2005.0</td>\n",
       "      <td>2.99</td>\n",
       "      <td>126.0</td>\n",
       "      <td>16.99</td>\n",
       "      <td>0</td>\n",
       "      <td>0</td>\n",
       "      <td>0</td>\n",
       "      <td>1</td>\n",
       "      <td>8.9401</td>\n",
       "      <td>15876.0</td>\n",
       "      <td>8.9401</td>\n",
       "      <td>3</td>\n",
       "      <td>1</td>\n",
       "      <td>0</td>\n",
       "    </tr>\n",
       "    <tr>\n",
       "      <th>1</th>\n",
       "      <td>2.99</td>\n",
       "      <td>2005.0</td>\n",
       "      <td>2.99</td>\n",
       "      <td>126.0</td>\n",
       "      <td>16.99</td>\n",
       "      <td>0</td>\n",
       "      <td>0</td>\n",
       "      <td>0</td>\n",
       "      <td>1</td>\n",
       "      <td>8.9401</td>\n",
       "      <td>15876.0</td>\n",
       "      <td>8.9401</td>\n",
       "      <td>2</td>\n",
       "      <td>1</td>\n",
       "      <td>0</td>\n",
       "    </tr>\n",
       "    <tr>\n",
       "      <th>2</th>\n",
       "      <td>2.99</td>\n",
       "      <td>2005.0</td>\n",
       "      <td>2.99</td>\n",
       "      <td>126.0</td>\n",
       "      <td>16.99</td>\n",
       "      <td>0</td>\n",
       "      <td>0</td>\n",
       "      <td>0</td>\n",
       "      <td>1</td>\n",
       "      <td>8.9401</td>\n",
       "      <td>15876.0</td>\n",
       "      <td>8.9401</td>\n",
       "      <td>7</td>\n",
       "      <td>1</td>\n",
       "      <td>0</td>\n",
       "    </tr>\n",
       "    <tr>\n",
       "      <th>3</th>\n",
       "      <td>2.99</td>\n",
       "      <td>2005.0</td>\n",
       "      <td>2.99</td>\n",
       "      <td>126.0</td>\n",
       "      <td>16.99</td>\n",
       "      <td>0</td>\n",
       "      <td>0</td>\n",
       "      <td>0</td>\n",
       "      <td>1</td>\n",
       "      <td>8.9401</td>\n",
       "      <td>15876.0</td>\n",
       "      <td>8.9401</td>\n",
       "      <td>2</td>\n",
       "      <td>1</td>\n",
       "      <td>0</td>\n",
       "    </tr>\n",
       "    <tr>\n",
       "      <th>4</th>\n",
       "      <td>2.99</td>\n",
       "      <td>2005.0</td>\n",
       "      <td>2.99</td>\n",
       "      <td>126.0</td>\n",
       "      <td>16.99</td>\n",
       "      <td>0</td>\n",
       "      <td>0</td>\n",
       "      <td>0</td>\n",
       "      <td>1</td>\n",
       "      <td>8.9401</td>\n",
       "      <td>15876.0</td>\n",
       "      <td>8.9401</td>\n",
       "      <td>4</td>\n",
       "      <td>1</td>\n",
       "      <td>0</td>\n",
       "    </tr>\n",
       "  </tbody>\n",
       "</table>\n",
       "</div>"
      ],
      "text/plain": [
       "   amount  release_year  rental_rate  length  replacement_cost  NC-17  PG  \\\n",
       "0    2.99        2005.0         2.99   126.0             16.99      0   0   \n",
       "1    2.99        2005.0         2.99   126.0             16.99      0   0   \n",
       "2    2.99        2005.0         2.99   126.0             16.99      0   0   \n",
       "3    2.99        2005.0         2.99   126.0             16.99      0   0   \n",
       "4    2.99        2005.0         2.99   126.0             16.99      0   0   \n",
       "\n",
       "   PG-13  R  amount_2  length_2  rental_rate_2  rental_length_days  \\\n",
       "0      0  1    8.9401   15876.0         8.9401                   3   \n",
       "1      0  1    8.9401   15876.0         8.9401                   2   \n",
       "2      0  1    8.9401   15876.0         8.9401                   7   \n",
       "3      0  1    8.9401   15876.0         8.9401                   2   \n",
       "4      0  1    8.9401   15876.0         8.9401                   4   \n",
       "\n",
       "   behind_the_scenes  deleted_scenes  \n",
       "0                  1               0  \n",
       "1                  1               0  \n",
       "2                  1               0  \n",
       "3                  1               0  \n",
       "4                  1               0  "
      ]
     },
     "execution_count": 14,
     "metadata": {},
     "output_type": "execute_result"
    }
   ],
   "source": [
    "df.head()"
   ]
  },
  {
   "cell_type": "code",
   "execution_count": 15,
   "id": "024119a9",
   "metadata": {},
   "outputs": [],
   "source": [
    "X = df.drop('rental_length_days',axis=1)\n",
    "y = df['rental_length_days']"
   ]
  },
  {
   "cell_type": "code",
   "execution_count": 16,
   "id": "12d92d31",
   "metadata": {},
   "outputs": [],
   "source": [
    "X_train, X_test, y_train, y_test = train_test_split(X,y,test_size=0.2,random_state=9)"
   ]
  },
  {
   "cell_type": "code",
   "execution_count": 17,
   "id": "6538352b",
   "metadata": {},
   "outputs": [
    {
     "data": {
      "text/plain": [
       "GridSearchCV(cv=5, estimator=Lasso(),\n",
       "             param_grid={'alpha': array([0.01, 0.02, 0.03, 0.04, 0.05, 0.06, 0.07, 0.08, 0.09, 0.1 , 0.11,\n",
       "       0.12, 0.13, 0.14, 0.15, 0.16, 0.17, 0.18, 0.19, 0.2 , 0.21, 0.22,\n",
       "       0.23, 0.24, 0.25, 0.26, 0.27, 0.28, 0.29, 0.3 , 0.31, 0.32, 0.33,\n",
       "       0.34, 0.35, 0.36, 0.37, 0.38, 0.39, 0.4 , 0.41, 0.42, 0.43, 0.44,\n",
       "       0.45, 0.46, 0.47, 0.48, 0.49, 0.5 , 0.51, 0.52, 0.53, 0.54, 0.55,\n",
       "       0.56, 0.57, 0.58, 0.59, 0.6 , 0.61, 0.62, 0.63, 0.64, 0.65, 0.66,\n",
       "       0.67, 0.68, 0.69, 0.7 , 0.71, 0.72, 0.73, 0.74, 0.75, 0.76, 0.77,\n",
       "       0.78, 0.79, 0.8 , 0.81, 0.82, 0.83, 0.84, 0.85, 0.86, 0.87, 0.88,\n",
       "       0.89, 0.9 , 0.91, 0.92, 0.93, 0.94, 0.95, 0.96, 0.97, 0.98, 0.99])})"
      ]
     },
     "execution_count": 17,
     "metadata": {},
     "output_type": "execute_result"
    }
   ],
   "source": [
    "# grid search cv\n",
    "\n",
    "ls = Lasso()\n",
    "params = {'alpha':np.arange(0.01,1,0.01)}\n",
    "cv = GridSearchCV(estimator=ls, param_grid = params, cv=5)\n",
    "cv.fit(X_train,y_train)\n"
   ]
  },
  {
   "cell_type": "code",
   "execution_count": 18,
   "id": "2c0243dc",
   "metadata": {},
   "outputs": [
    {
     "data": {
      "text/plain": [
       "{'alpha': 0.01}"
      ]
     },
     "execution_count": 18,
     "metadata": {},
     "output_type": "execute_result"
    }
   ],
   "source": [
    "cv.best_params_"
   ]
  },
  {
   "cell_type": "code",
   "execution_count": 19,
   "id": "b759f665",
   "metadata": {},
   "outputs": [],
   "source": [
    "ls = Lasso(alpha=0.01,random_state=9)"
   ]
  },
  {
   "cell_type": "code",
   "execution_count": 20,
   "id": "b7a80d75",
   "metadata": {},
   "outputs": [
    {
     "data": {
      "text/plain": [
       "Lasso(alpha=0.01, random_state=9)"
      ]
     },
     "execution_count": 20,
     "metadata": {},
     "output_type": "execute_result"
    }
   ],
   "source": [
    "ls.fit(X_train,y_train)"
   ]
  },
  {
   "cell_type": "code",
   "execution_count": 21,
   "id": "63385253",
   "metadata": {},
   "outputs": [
    {
     "data": {
      "text/plain": [
       "0.5844464996667653"
      ]
     },
     "execution_count": 21,
     "metadata": {},
     "output_type": "execute_result"
    }
   ],
   "source": [
    "ls.score(X_test,y_test)"
   ]
  },
  {
   "cell_type": "code",
   "execution_count": 22,
   "id": "a4af6e62",
   "metadata": {},
   "outputs": [],
   "source": [
    "coefs = ls.coef_"
   ]
  },
  {
   "cell_type": "code",
   "execution_count": 23,
   "id": "290e4139",
   "metadata": {},
   "outputs": [],
   "source": [
    "X_lasso_train , X_lasso_test = X_train.iloc[:,coefs>0], X_test.iloc[:,coefs>0]"
   ]
  },
  {
   "cell_type": "code",
   "execution_count": 24,
   "id": "61246e42",
   "metadata": {},
   "outputs": [],
   "source": [
    "lin_reg = LinearRegression()"
   ]
  },
  {
   "cell_type": "code",
   "execution_count": 25,
   "id": "430a0d9c",
   "metadata": {},
   "outputs": [
    {
     "data": {
      "text/plain": [
       "LinearRegression()"
      ]
     },
     "execution_count": 25,
     "metadata": {},
     "output_type": "execute_result"
    }
   ],
   "source": [
    "lin_reg.fit(X_lasso_train,y_train)"
   ]
  },
  {
   "cell_type": "code",
   "execution_count": 27,
   "id": "5a4ab0d2",
   "metadata": {},
   "outputs": [
    {
     "data": {
      "text/plain": [
       "4.846638768993787"
      ]
     },
     "execution_count": 27,
     "metadata": {},
     "output_type": "execute_result"
    }
   ],
   "source": [
    "mse = mean_squared_error(y_test,lin_reg.predict(X_lasso_test))\n",
    "mse"
   ]
  },
  {
   "cell_type": "code",
   "execution_count": 40,
   "id": "5d60cdcc",
   "metadata": {},
   "outputs": [
    {
     "data": {
      "text/plain": [
       "0.317333527385516"
      ]
     },
     "execution_count": 40,
     "metadata": {},
     "output_type": "execute_result"
    }
   ],
   "source": [
    "score_lin = lin_reg.score(X_lasso_test,y_test)\n",
    "score_lin"
   ]
  },
  {
   "cell_type": "code",
   "execution_count": 28,
   "id": "6b7586e3",
   "metadata": {},
   "outputs": [],
   "source": [
    "params = {'n_estimators':np.arange(1,101,1),'max_depth':np.arange(1,11,1)}"
   ]
  },
  {
   "cell_type": "code",
   "execution_count": 29,
   "id": "7683de03",
   "metadata": {},
   "outputs": [],
   "source": [
    "ran_reg = RandomForestRegressor()"
   ]
  },
  {
   "cell_type": "code",
   "execution_count": 30,
   "id": "533c25ff",
   "metadata": {},
   "outputs": [],
   "source": [
    "random_cv = RandomizedSearchCV(estimator=ran_reg, param_distributions = params, cv=5, random_state=9 )"
   ]
  },
  {
   "cell_type": "code",
   "execution_count": 33,
   "id": "1ca5f15a",
   "metadata": {},
   "outputs": [
    {
     "data": {
      "text/plain": [
       "RandomizedSearchCV(cv=5, estimator=RandomForestRegressor(),\n",
       "                   param_distributions={'max_depth': array([ 1,  2,  3,  4,  5,  6,  7,  8,  9, 10]),\n",
       "                                        'n_estimators': array([  1,   2,   3,   4,   5,   6,   7,   8,   9,  10,  11,  12,  13,\n",
       "        14,  15,  16,  17,  18,  19,  20,  21,  22,  23,  24,  25,  26,\n",
       "        27,  28,  29,  30,  31,  32,  33,  34,  35,  36,  37,  38,  39,\n",
       "        40,  41,  42,  43,  44,  45,  46,  47,  48,  49,  50,  51,  52,\n",
       "        53,  54,  55,  56,  57,  58,  59,  60,  61,  62,  63,  64,  65,\n",
       "        66,  67,  68,  69,  70,  71,  72,  73,  74,  75,  76,  77,  78,\n",
       "        79,  80,  81,  82,  83,  84,  85,  86,  87,  88,  89,  90,  91,\n",
       "        92,  93,  94,  95,  96,  97,  98,  99, 100])},\n",
       "                   random_state=9)"
      ]
     },
     "execution_count": 33,
     "metadata": {},
     "output_type": "execute_result"
    }
   ],
   "source": [
    "random_cv.fit(X_train,y_train)"
   ]
  },
  {
   "cell_type": "code",
   "execution_count": 35,
   "id": "b76aa3a7",
   "metadata": {},
   "outputs": [
    {
     "data": {
      "text/plain": [
       "{'n_estimators': 51, 'max_depth': 10}"
      ]
     },
     "execution_count": 35,
     "metadata": {},
     "output_type": "execute_result"
    }
   ],
   "source": [
    "random_cv.best_params_"
   ]
  },
  {
   "cell_type": "code",
   "execution_count": 36,
   "id": "ed39929f",
   "metadata": {},
   "outputs": [],
   "source": [
    "random_forest_reg = RandomForestRegressor(n_estimators=51,max_depth=10,random_state=9)"
   ]
  },
  {
   "cell_type": "code",
   "execution_count": 37,
   "id": "c534a91a",
   "metadata": {},
   "outputs": [
    {
     "data": {
      "text/plain": [
       "RandomForestRegressor(max_depth=10, n_estimators=51, random_state=9)"
      ]
     },
     "execution_count": 37,
     "metadata": {},
     "output_type": "execute_result"
    }
   ],
   "source": [
    "random_forest_reg.fit(X_train,y_train)"
   ]
  },
  {
   "cell_type": "code",
   "execution_count": 39,
   "id": "bae8909c",
   "metadata": {},
   "outputs": [
    {
     "data": {
      "text/plain": [
       "2.2263458351591416"
      ]
     },
     "execution_count": 39,
     "metadata": {},
     "output_type": "execute_result"
    }
   ],
   "source": [
    "mse_ran = mean_squared_error(y_test, random_forest_reg.predict(X_test))\n",
    "mse_ran"
   ]
  },
  {
   "cell_type": "code",
   "execution_count": 42,
   "id": "f2ddc3a7",
   "metadata": {},
   "outputs": [
    {
     "data": {
      "text/plain": [
       "0.6864111953564107"
      ]
     },
     "execution_count": 42,
     "metadata": {},
     "output_type": "execute_result"
    }
   ],
   "source": [
    "score_ran = random_forest_reg.score(X_test,y_test)\n",
    "score_ran"
   ]
  },
  {
   "cell_type": "code",
   "execution_count": null,
   "id": "ae260113",
   "metadata": {},
   "outputs": [],
   "source": []
  }
 ],
 "metadata": {
  "kernelspec": {
   "display_name": "Python 3 (ipykernel)",
   "language": "python",
   "name": "python3"
  },
  "language_info": {
   "codemirror_mode": {
    "name": "ipython",
    "version": 3
   },
   "file_extension": ".py",
   "mimetype": "text/x-python",
   "name": "python",
   "nbconvert_exporter": "python",
   "pygments_lexer": "ipython3",
   "version": "3.9.13"
  }
 },
 "nbformat": 4,
 "nbformat_minor": 5
}
